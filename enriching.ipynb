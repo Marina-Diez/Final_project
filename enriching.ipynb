{
 "cells": [
  {
   "cell_type": "code",
   "execution_count": 2,
   "id": "f53e8295",
   "metadata": {},
   "outputs": [],
   "source": [
    "import numpy as np\n",
    "import pandas as pd\n",
    "import requests\n",
    "from bs4 import BeautifulSoup\n",
    "import re"
   ]
  },
  {
   "cell_type": "code",
   "execution_count": 3,
   "id": "bdb0945f",
   "metadata": {},
   "outputs": [],
   "source": [
    "#Select our url\n",
    "url = \"https://en.wikipedia.org/wiki/Tourism_in_Portugal\""
   ]
  },
  {
   "cell_type": "code",
   "execution_count": 4,
   "id": "fbbb9470",
   "metadata": {},
   "outputs": [],
   "source": [
    "#Obtein the data\n",
    "html = requests.get(url)"
   ]
  },
  {
   "cell_type": "code",
   "execution_count": 5,
   "id": "eff95015",
   "metadata": {},
   "outputs": [],
   "source": [
    "soup = BeautifulSoup(html.content, \"html.parser\")"
   ]
  },
  {
   "cell_type": "code",
   "execution_count": 6,
   "id": "6c33431c",
   "metadata": {},
   "outputs": [],
   "source": [
    "# We want to take the information of a table so we see how many tables are in our site and which one we want to take\n",
    "tablas = soup.find_all(\"table\")"
   ]
  },
  {
   "cell_type": "code",
   "execution_count": 7,
   "id": "30827e40",
   "metadata": {},
   "outputs": [
    {
     "data": {
      "text/plain": [
       "10"
      ]
     },
     "execution_count": 7,
     "metadata": {},
     "output_type": "execute_result"
    }
   ],
   "source": [
    "len(tablas)"
   ]
  },
  {
   "cell_type": "code",
   "execution_count": 20,
   "id": "528077f0",
   "metadata": {},
   "outputs": [],
   "source": [
    "tourists = tablas[0]"
   ]
  },
  {
   "cell_type": "code",
   "execution_count": 21,
   "id": "7f1772cb",
   "metadata": {},
   "outputs": [
    {
     "data": {
      "text/plain": [
       "<a href=\"/wiki/France\" title=\"France\">France</a>"
      ]
     },
     "execution_count": 21,
     "metadata": {},
     "output_type": "execute_result"
    }
   ],
   "source": [
    "tourist = tourists.find_all(\"a\")[2]\n",
    "tourist"
   ]
  },
  {
   "cell_type": "code",
   "execution_count": 22,
   "id": "fc30790f",
   "metadata": {},
   "outputs": [
    {
     "data": {
      "text/plain": [
       "'France'"
      ]
     },
     "execution_count": 22,
     "metadata": {},
     "output_type": "execute_result"
    }
   ],
   "source": [
    "tourist.text"
   ]
  },
  {
   "cell_type": "code",
   "execution_count": 23,
   "id": "e067d90f",
   "metadata": {},
   "outputs": [],
   "source": [
    "tourists = soup.find_all(\"table\")[0]"
   ]
  },
  {
   "cell_type": "code",
   "execution_count": 27,
   "id": "6ce4354f",
   "metadata": {},
   "outputs": [
    {
     "data": {
      "text/plain": [
       "<tr>\n",
       "<td>1</td>\n",
       "<td><span class=\"datasortkey\" data-sort-value=\"United Kingdom\"><span class=\"flagicon\"><img alt=\"\" class=\"thumbborder\" data-file-height=\"600\" data-file-width=\"1200\" decoding=\"async\" height=\"12\" src=\"//upload.wikimedia.org/wikipedia/en/thumb/a/ae/Flag_of_the_United_Kingdom.svg/23px-Flag_of_the_United_Kingdom.svg.png\" srcset=\"//upload.wikimedia.org/wikipedia/en/thumb/a/ae/Flag_of_the_United_Kingdom.svg/35px-Flag_of_the_United_Kingdom.svg.png 1.5x, //upload.wikimedia.org/wikipedia/en/thumb/a/ae/Flag_of_the_United_Kingdom.svg/46px-Flag_of_the_United_Kingdom.svg.png 2x\" width=\"23\"/> </span><a href=\"/wiki/United_Kingdom\" title=\"United Kingdom\">United Kingdom</a></span></td>\n",
       "<td>2,099,008</td>\n",
       "<td>2,042,867</td>\n",
       "<td>2,145,902\n",
       "</td></tr>"
      ]
     },
     "execution_count": 27,
     "metadata": {},
     "output_type": "execute_result"
    }
   ],
   "source": [
    "tourists.find_all(\"tr\")[1]"
   ]
  },
  {
   "cell_type": "code",
   "execution_count": 30,
   "id": "f66f4607",
   "metadata": {},
   "outputs": [
    {
     "data": {
      "text/plain": [
       "'2,042,867'"
      ]
     },
     "execution_count": 30,
     "metadata": {},
     "output_type": "execute_result"
    }
   ],
   "source": [
    "tourists.find_all(\"tr\")[1].find_all(\"td\")[3].text.strip()"
   ]
  },
  {
   "cell_type": "code",
   "execution_count": 36,
   "id": "f4dfc351",
   "metadata": {},
   "outputs": [],
   "source": [
    "# Iterate this data. in order to get all values\n",
    "tourist_barr = []\n",
    "for f in tourists.find_all(\"tr\"): \n",
    "    fila = [e for e in f.find_all(\"td\")]\n",
    "    if len(fila) > 0:\n",
    "        pais = { \"Pais\" : fila[1].text.strip(),\n",
    "                \"Number_tourists_2017\": fila[3].text\n",
    "              \n",
    "        }\n",
    "        \n",
    "        tourist_barr.append(pais)"
   ]
  },
  {
   "cell_type": "code",
   "execution_count": 37,
   "id": "126179ce",
   "metadata": {},
   "outputs": [
    {
     "data": {
      "text/html": [
       "<div>\n",
       "<style scoped>\n",
       "    .dataframe tbody tr th:only-of-type {\n",
       "        vertical-align: middle;\n",
       "    }\n",
       "\n",
       "    .dataframe tbody tr th {\n",
       "        vertical-align: top;\n",
       "    }\n",
       "\n",
       "    .dataframe thead th {\n",
       "        text-align: right;\n",
       "    }\n",
       "</style>\n",
       "<table border=\"1\" class=\"dataframe\">\n",
       "  <thead>\n",
       "    <tr style=\"text-align: right;\">\n",
       "      <th></th>\n",
       "      <th>Pais</th>\n",
       "      <th>Number_tourists_2017</th>\n",
       "    </tr>\n",
       "  </thead>\n",
       "  <tbody>\n",
       "    <tr>\n",
       "      <th>0</th>\n",
       "      <td>United Kingdom</td>\n",
       "      <td>2,042,867</td>\n",
       "    </tr>\n",
       "    <tr>\n",
       "      <th>1</th>\n",
       "      <td>Spain</td>\n",
       "      <td>2,069,645</td>\n",
       "    </tr>\n",
       "    <tr>\n",
       "      <th>2</th>\n",
       "      <td>France</td>\n",
       "      <td>1,641,912</td>\n",
       "    </tr>\n",
       "    <tr>\n",
       "      <th>3</th>\n",
       "      <td>Germany</td>\n",
       "      <td>1,602,066</td>\n",
       "    </tr>\n",
       "    <tr>\n",
       "      <th>4</th>\n",
       "      <td>Brazil</td>\n",
       "      <td>1,103,718</td>\n",
       "    </tr>\n",
       "    <tr>\n",
       "      <th>5</th>\n",
       "      <td>United States</td>\n",
       "      <td>981,822</td>\n",
       "    </tr>\n",
       "    <tr>\n",
       "      <th>6</th>\n",
       "      <td>Italy</td>\n",
       "      <td>665,930</td>\n",
       "    </tr>\n",
       "    <tr>\n",
       "      <th>7</th>\n",
       "      <td>Netherlands</td>\n",
       "      <td>610,161</td>\n",
       "    </tr>\n",
       "    <tr>\n",
       "      <th>8</th>\n",
       "      <td>Ireland</td>\n",
       "      <td>357,542</td>\n",
       "    </tr>\n",
       "    <tr>\n",
       "      <th>9</th>\n",
       "      <td>China</td>\n",
       "      <td>324,258</td>\n",
       "    </tr>\n",
       "    <tr>\n",
       "      <th>10</th>\n",
       "      <td>Canada</td>\n",
       "      <td>346,428</td>\n",
       "    </tr>\n",
       "    <tr>\n",
       "      <th>11</th>\n",
       "      <td>Belgium</td>\n",
       "      <td>327,264</td>\n",
       "    </tr>\n",
       "    <tr>\n",
       "      <th>12</th>\n",
       "      <td>Switzerland</td>\n",
       "      <td>303,013</td>\n",
       "    </tr>\n",
       "    <tr>\n",
       "      <th>13</th>\n",
       "      <td>Poland</td>\n",
       "      <td>285,362</td>\n",
       "    </tr>\n",
       "    <tr>\n",
       "      <th>14</th>\n",
       "      <td>Sweden</td>\n",
       "      <td>190,183</td>\n",
       "    </tr>\n",
       "    <tr>\n",
       "      <th>15</th>\n",
       "      <td>Denmark</td>\n",
       "      <td>142,573</td>\n",
       "    </tr>\n",
       "    <tr>\n",
       "      <th>16</th>\n",
       "      <td>Other foreign</td>\n",
       "      <td>2,313,413</td>\n",
       "    </tr>\n",
       "    <tr>\n",
       "      <th>17</th>\n",
       "      <td>Total international visitors</td>\n",
       "      <td>25,249,904</td>\n",
       "    </tr>\n",
       "  </tbody>\n",
       "</table>\n",
       "</div>"
      ],
      "text/plain": [
       "                            Pais Number_tourists_2017\n",
       "0                 United Kingdom            2,042,867\n",
       "1                          Spain            2,069,645\n",
       "2                         France            1,641,912\n",
       "3                        Germany            1,602,066\n",
       "4                         Brazil            1,103,718\n",
       "5                  United States              981,822\n",
       "6                          Italy              665,930\n",
       "7                    Netherlands              610,161\n",
       "8                        Ireland              357,542\n",
       "9                          China              324,258\n",
       "10                        Canada              346,428\n",
       "11                       Belgium              327,264\n",
       "12                   Switzerland              303,013\n",
       "13                        Poland              285,362\n",
       "14                        Sweden              190,183\n",
       "15                       Denmark              142,573\n",
       "16                 Other foreign            2,313,413\n",
       "17  Total international visitors           25,249,904"
      ]
     },
     "execution_count": 37,
     "metadata": {},
     "output_type": "execute_result"
    }
   ],
   "source": [
    "data_tourists = pd.DataFrame(tourist_barr)\n",
    "data_tourists"
   ]
  },
  {
   "cell_type": "code",
   "execution_count": null,
   "id": "9f333c58",
   "metadata": {},
   "outputs": [],
   "source": []
  },
  {
   "cell_type": "code",
   "execution_count": null,
   "id": "85f22dad",
   "metadata": {},
   "outputs": [],
   "source": []
  }
 ],
 "metadata": {
  "kernelspec": {
   "display_name": "ironhackpt",
   "language": "python",
   "name": "ironhackpt"
  },
  "language_info": {
   "codemirror_mode": {
    "name": "ipython",
    "version": 3
   },
   "file_extension": ".py",
   "mimetype": "text/x-python",
   "name": "python",
   "nbconvert_exporter": "python",
   "pygments_lexer": "ipython3",
   "version": "3.6.13"
  }
 },
 "nbformat": 4,
 "nbformat_minor": 5
}
